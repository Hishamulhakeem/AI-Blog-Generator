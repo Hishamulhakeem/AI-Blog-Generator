{
 "cells": [
  {
   "cell_type": "code",
   "execution_count": 1,
   "id": "cf81ec78",
   "metadata": {},
   "outputs": [
    {
     "name": "stdout",
     "output_type": "stream",
     "text": [
      "Defaulting to user installation because normal site-packages is not writeable\n",
      "Requirement already satisfied: openai in c:\\users\\hisha\\appdata\\roaming\\python\\python311\\site-packages (1.77.0)\n",
      "Requirement already satisfied: anyio<5,>=3.5.0 in c:\\programdata\\anaconda3\\lib\\site-packages (from openai) (3.5.0)\n",
      "Requirement already satisfied: distro<2,>=1.7.0 in c:\\users\\hisha\\appdata\\roaming\\python\\python311\\site-packages (from openai) (1.9.0)\n",
      "Requirement already satisfied: httpx<1,>=0.23.0 in c:\\users\\hisha\\appdata\\roaming\\python\\python311\\site-packages (from openai) (0.28.1)\n",
      "Requirement already satisfied: jiter<1,>=0.4.0 in c:\\users\\hisha\\appdata\\roaming\\python\\python311\\site-packages (from openai) (0.9.0)\n",
      "Requirement already satisfied: pydantic<3,>=1.9.0 in c:\\programdata\\anaconda3\\lib\\site-packages (from openai) (1.10.8)\n",
      "Requirement already satisfied: sniffio in c:\\programdata\\anaconda3\\lib\\site-packages (from openai) (1.2.0)\n",
      "Requirement already satisfied: tqdm>4 in c:\\programdata\\anaconda3\\lib\\site-packages (from openai) (4.65.0)\n",
      "Requirement already satisfied: typing-extensions<5,>=4.11 in c:\\users\\hisha\\appdata\\roaming\\python\\python311\\site-packages (from openai) (4.12.2)\n",
      "Requirement already satisfied: idna>=2.8 in c:\\users\\hisha\\appdata\\roaming\\python\\python311\\site-packages (from anyio<5,>=3.5.0->openai) (3.10)\n",
      "Requirement already satisfied: certifi in c:\\users\\hisha\\appdata\\roaming\\python\\python311\\site-packages (from httpx<1,>=0.23.0->openai) (2025.1.31)\n",
      "Requirement already satisfied: httpcore==1.* in c:\\users\\hisha\\appdata\\roaming\\python\\python311\\site-packages (from httpx<1,>=0.23.0->openai) (1.0.9)\n",
      "Requirement already satisfied: h11>=0.16 in c:\\users\\hisha\\appdata\\roaming\\python\\python311\\site-packages (from httpcore==1.*->httpx<1,>=0.23.0->openai) (0.16.0)\n",
      "Requirement already satisfied: colorama in c:\\programdata\\anaconda3\\lib\\site-packages (from tqdm>4->openai) (0.4.6)\n"
     ]
    }
   ],
   "source": [
    "!pip install openai"
   ]
  },
  {
   "cell_type": "code",
   "execution_count": 1,
   "id": "3185daee",
   "metadata": {},
   "outputs": [],
   "source": [
    "import os \n",
    "import openai\n",
    "\n",
    "from openai import OpenAI"
   ]
  },
  {
   "cell_type": "code",
   "execution_count": null,
   "id": "3b757499",
   "metadata": {},
   "outputs": [],
   "source": [
    "client = OpenAI(\n",
    "    api_key = apiKey\n",
    ")"
   ]
  },
  {
   "cell_type": "code",
   "execution_count": 5,
   "id": "16ad789b",
   "metadata": {},
   "outputs": [
    {
     "name": "stdout",
     "output_type": "stream",
     "text": [
      "SyncPage[Model](data=[Model(id='dall-e-3', created=1698785189, object='model', owned_by='system'), Model(id='dall-e-2', created=1698798177, object='model', owned_by='system'), Model(id='gpt-4o-audio-preview-2024-10-01', created=1727389042, object='model', owned_by='system'), Model(id='text-embedding-3-small', created=1705948997, object='model', owned_by='system'), Model(id='babbage-002', created=1692634615, object='model', owned_by='system'), Model(id='o1-mini-2024-09-12', created=1725648979, object='model', owned_by='system'), Model(id='o1-mini', created=1725649008, object='model', owned_by='system'), Model(id='text-embedding-ada-002', created=1671217299, object='model', owned_by='openai-internal'), Model(id='gpt-4o-mini-audio-preview', created=1734387424, object='model', owned_by='system'), Model(id='gpt-4o-audio-preview', created=1727460443, object='model', owned_by='system'), Model(id='o1-preview-2024-09-12', created=1725648865, object='model', owned_by='system'), Model(id='gpt-3.5-turbo-instruct-0914', created=1694122472, object='model', owned_by='system'), Model(id='gpt-4o-mini-search-preview', created=1741391161, object='model', owned_by='system'), Model(id='gpt-3.5-turbo-16k', created=1683758102, object='model', owned_by='openai-internal'), Model(id='davinci-002', created=1692634301, object='model', owned_by='system'), Model(id='gpt-3.5-turbo-1106', created=1698959748, object='model', owned_by='system'), Model(id='gpt-4o-search-preview', created=1741388720, object='model', owned_by='system'), Model(id='gpt-3.5-turbo-instruct', created=1692901427, object='model', owned_by='system'), Model(id='gpt-3.5-turbo', created=1677610602, object='model', owned_by='openai'), Model(id='gpt-4o-mini-search-preview-2025-03-11', created=1741390858, object='model', owned_by='system'), Model(id='gpt-4o-2024-11-20', created=1739331543, object='model', owned_by='system'), Model(id='whisper-1', created=1677532384, object='model', owned_by='openai-internal'), Model(id='gpt-4o-2024-05-13', created=1715368132, object='model', owned_by='system'), Model(id='o1-preview', created=1725648897, object='model', owned_by='system'), Model(id='text-embedding-3-large', created=1705953180, object='model', owned_by='system'), Model(id='gpt-4o-mini-tts', created=1742403959, object='model', owned_by='system'), Model(id='gpt-4o-transcribe', created=1742068463, object='model', owned_by='system'), Model(id='gpt-4.5-preview', created=1740623059, object='model', owned_by='system'), Model(id='gpt-4.5-preview-2025-02-27', created=1740623304, object='model', owned_by='system'), Model(id='gpt-4o-search-preview-2025-03-11', created=1741388170, object='model', owned_by='system'), Model(id='omni-moderation-2024-09-26', created=1732734466, object='model', owned_by='system'), Model(id='gpt-image-1', created=1745517030, object='model', owned_by='system'), Model(id='tts-1-hd', created=1699046015, object='model', owned_by='system'), Model(id='gpt-4o', created=1715367049, object='model', owned_by='system'), Model(id='tts-1-hd-1106', created=1699053533, object='model', owned_by='system'), Model(id='gpt-4o-2024-08-06', created=1722814719, object='model', owned_by='system'), Model(id='gpt-4o-mini-2024-07-18', created=1721172717, object='model', owned_by='system'), Model(id='gpt-4.1-mini', created=1744318173, object='model', owned_by='system'), Model(id='gpt-4o-mini', created=1721172741, object='model', owned_by='system'), Model(id='gpt-4o-mini-audio-preview-2024-12-17', created=1734115920, object='model', owned_by='system'), Model(id='gpt-3.5-turbo-0125', created=1706048358, object='model', owned_by='system'), Model(id='tts-1', created=1681940951, object='model', owned_by='openai-internal'), Model(id='tts-1-1106', created=1699053241, object='model', owned_by='system'), Model(id='gpt-4o-mini-transcribe', created=1742068596, object='model', owned_by='system'), Model(id='gpt-4.1-mini-2025-04-14', created=1744317547, object='model', owned_by='system'), Model(id='gpt-4.1', created=1744316542, object='model', owned_by='system'), Model(id='gpt-4.1-2025-04-14', created=1744315746, object='model', owned_by='system'), Model(id='gpt-4.1-nano-2025-04-14', created=1744321025, object='model', owned_by='system'), Model(id='omni-moderation-latest', created=1731689265, object='model', owned_by='system'), Model(id='gpt-4.1-nano', created=1744321707, object='model', owned_by='system')], object='list')\n"
     ]
    }
   ],
   "source": [
    "print(client.models.list())"
   ]
  },
  {
   "cell_type": "code",
   "execution_count": 14,
   "id": "c7b4976c",
   "metadata": {},
   "outputs": [],
   "source": [
    "response1 = client.chat.completions.create(\n",
    "    model=\"gpt-4o-mini\",\n",
    "    store = True,\n",
    "    messages=[\n",
    "        {'role':'user','content':'Cricket'}\n",
    "    ],\n",
    "    temperature = 0,  # 0=>true , 1=> creativity\n",
    "    max_tokens = 500  # token = word or 4,5 charcter => it's like how long u need the response\n",
    ").to_dict()\n"
   ]
  },
  {
   "cell_type": "code",
   "execution_count": 51,
   "id": "0ab45ef9",
   "metadata": {},
   "outputs": [],
   "source": [
    "#print(response)"
   ]
  },
  {
   "cell_type": "code",
   "execution_count": 15,
   "id": "93cd14f7",
   "metadata": {},
   "outputs": [
    {
     "name": "stdout",
     "output_type": "stream",
     "text": [
      "Cricket is a bat-and-ball game played between two teams, typically consisting of 11 players each. It is one of the most popular sports in the world, especially in countries like India, Australia, England, Pakistan, and South Africa. The game is played on a circular or oval-shaped field, with a rectangular 22-yard-long pitch at the center.\n",
      "\n",
      "### Basic Rules and Structure:\n",
      "1. **Objective**: The main objective is to score more runs than the opposing team.\n",
      "2. **Innings**: Each team has one or two innings, depending on the format of the game.\n",
      "3. **Formats**:\n",
      "   - **Test Cricket**: Played over five days, with each team batting twice.\n",
      "   - **One Day Internationals (ODIs)**: Each team bats for a maximum of 50 overs.\n",
      "   - **Twenty20 (T20)**: Each team bats for a maximum of 20 overs, making it a shorter and more explosive format.\n",
      "4. **Scoring Runs**: Runs can be scored by hitting the ball and running between the wickets or by hitting boundaries (4 runs for hitting the ball to the boundary and 6 runs for hitting it over the boundary without it touching the ground).\n",
      "5. **Wickets**: The bowling team aims to dismiss the batsmen by hitting the wickets with the ball, catching the ball after it has been hit but before it touches the ground, or by other means such as leg before wicket (LBW).\n",
      "\n",
      "### Key Terms:\n",
      "- **Bowler**: The player who delivers the ball to the batsman.\n",
      "- **Batsman**: The player who tries to score runs by hitting the ball.\n",
      "- **Umpire**: The official who enforces the rules of the game.\n",
      "- **Fielding**: The act of defending against the batting team and trying to prevent runs from being scored.\n",
      "\n",
      "### Major Tournaments:\n",
      "- **ICC Cricket World Cup**: The premier international championship of One Day International cricket.\n",
      "- **ICC T20 World Cup**: The international championship for T20 cricket.\n",
      "- **The Ashes**: A Test cricket series played between England and Australia.\n",
      "\n",
      "Cricket has a rich history and a passionate following, with numerous legendary players and memorable matches that have shaped the sport. If you have specific questions or topics about cricket you'd like to know more about, feel free to ask!\n"
     ]
    }
   ],
   "source": [
    "blog = response1['choices'][0]['message']['content']\n",
    "print(blog)"
   ]
  },
  {
   "cell_type": "code",
   "execution_count": 21,
   "id": "837b7d1b",
   "metadata": {},
   "outputs": [
    {
     "name": "stdout",
     "output_type": "stream",
     "text": [
      "Enter a topic : Rohit shamra\n",
      "Enter a additional parameter : Mumbai Indians\n",
      "# The Legacy of Rohit Sharma: A Mumbai Indians Icon\n",
      "\n",
      "## Introduction: The Rise of a Cricketing Legend\n",
      "\n",
      "Rohit Sharma, the captain of the Mumbai Indians (MI), has become synonymous with success in the Indian Premier League (IPL). His journey from a promising young talent to one of the most successful captains in IPL history is nothing short of inspiring. With multiple championships under his belt, Rohit has not only elevated his own career but has also transformed MI into a cricketing powerhouse.\n",
      "\n",
      "## Early Days: The Making of a Star\n",
      "\n",
      "Born on April 30, 1987, in Bansod, Nagpur, Rohit Sharma's cricketing journey began at a young age. He showcased his talent in school cricket, which eventually led to his selection for the Under-19 team. His performances caught the eye of selectors, and in 2008, he made his debut for the Indian national team, marking the beginning of a remarkable career.\n",
      "\n",
      "## The Mumbai Indians Connection\n",
      "\n",
      "Rohit Sharma's association with the Mumbai Indians began in 2011 when he was bought for a substantial sum. His impact was immediate, as he played a crucial role in MI's success, helping them clinch their first title in\n"
     ]
    }
   ],
   "source": [
    "roles = \"\"\"\n",
    "You are a copy writer with years of experience writing impactful blog that converge and help elevate brands.\n",
    "Your task is to write a blog on any topic system provides you with. Make sure to write in a format that works for Medium.\n",
    "Each blog should be separated into segments that have titles and subtitles. Each paragraph should be three sentences long.\n",
    "\"\"\"\n",
    "Topic = input('Enter a topic : ')\n",
    "Additional_pointers = input('Enter a additional parameter : ')\n",
    "\n",
    "response2 = client.chat.completions.create(\n",
    "    model=\"gpt-4o-mini\",\n",
    "    store = True,\n",
    "    messages=[\n",
    "        {'role':'system','content':roles},\n",
    "        {'role':'system','content':Additional_pointers},\n",
    "        {'role':'user','content':Topic}\n",
    "    ],\n",
    "    temperature = 0,   \n",
    "    max_tokens = 250 \n",
    ").to_dict()\n",
    "\n",
    "message_res = response2['choices'][0]['message']['content']\n",
    "print(message_res)"
   ]
  },
  {
   "cell_type": "code",
   "execution_count": null,
   "id": "46fa6964",
   "metadata": {},
   "outputs": [],
   "source": []
  }
 ],
 "metadata": {
  "kernelspec": {
   "display_name": "Python 3 (ipykernel)",
   "language": "python",
   "name": "python3"
  },
  "language_info": {
   "codemirror_mode": {
    "name": "ipython",
    "version": 3
   },
   "file_extension": ".py",
   "mimetype": "text/x-python",
   "name": "python",
   "nbconvert_exporter": "python",
   "pygments_lexer": "ipython3",
   "version": "3.11.5"
  }
 },
 "nbformat": 4,
 "nbformat_minor": 5
}
